{
 "cells": [
  {
   "cell_type": "code",
   "execution_count": 1,
   "metadata": {},
   "outputs": [],
   "source": [
    "import pandas as pd\n",
    "import matplotlib.pyplot as plt"
   ]
  },
  {
   "cell_type": "code",
   "execution_count": 2,
   "metadata": {},
   "outputs": [],
   "source": [
    "tf_results = pd.read_csv('tf_fool_gaussian.csv')"
   ]
  },
  {
   "cell_type": "code",
   "execution_count": 3,
   "metadata": {},
   "outputs": [
    {
     "data": {
      "text/html": [
       "<div>\n",
       "<style scoped>\n",
       "    .dataframe tbody tr th:only-of-type {\n",
       "        vertical-align: middle;\n",
       "    }\n",
       "\n",
       "    .dataframe tbody tr th {\n",
       "        vertical-align: top;\n",
       "    }\n",
       "\n",
       "    .dataframe thead th {\n",
       "        text-align: right;\n",
       "    }\n",
       "</style>\n",
       "<table border=\"1\" class=\"dataframe\">\n",
       "  <thead>\n",
       "    <tr style=\"text-align: right;\">\n",
       "      <th></th>\n",
       "      <th>trial_id</th>\n",
       "      <th>robust_acc</th>\n",
       "      <th>test_loss</th>\n",
       "      <th>time_this_iter_s</th>\n",
       "      <th>done</th>\n",
       "      <th>timesteps_total</th>\n",
       "      <th>episodes_total</th>\n",
       "      <th>training_iteration</th>\n",
       "      <th>experiment_id</th>\n",
       "      <th>date</th>\n",
       "      <th>...</th>\n",
       "      <th>hostname</th>\n",
       "      <th>node_ip</th>\n",
       "      <th>time_since_restore</th>\n",
       "      <th>timesteps_since_restore</th>\n",
       "      <th>iterations_since_restore</th>\n",
       "      <th>experiment_tag</th>\n",
       "      <th>config.learning_rate</th>\n",
       "      <th>config.dropout</th>\n",
       "      <th>config.epochs</th>\n",
       "      <th>config.batch_size</th>\n",
       "    </tr>\n",
       "  </thead>\n",
       "  <tbody>\n",
       "    <tr>\n",
       "      <th>0</th>\n",
       "      <td>2d763446</td>\n",
       "      <td>0.547806</td>\n",
       "      <td>1.554377</td>\n",
       "      <td>96.970397</td>\n",
       "      <td>True</td>\n",
       "      <td>NaN</td>\n",
       "      <td>NaN</td>\n",
       "      <td>1</td>\n",
       "      <td>a2e8b8b7c49e43ffa600b3930c4cbc99</td>\n",
       "      <td>2020-10-06_20-58-57</td>\n",
       "      <td>...</td>\n",
       "      <td>lambda1</td>\n",
       "      <td>140.221.79.11</td>\n",
       "      <td>96.970397</td>\n",
       "      <td>0</td>\n",
       "      <td>1</td>\n",
       "      <td>1_batch_size=568,dropout=0.76084,epochs=71,lea...</td>\n",
       "      <td>0.084367</td>\n",
       "      <td>0.760842</td>\n",
       "      <td>71</td>\n",
       "      <td>568</td>\n",
       "    </tr>\n",
       "    <tr>\n",
       "      <th>1</th>\n",
       "      <td>2d763447</td>\n",
       "      <td>0.769446</td>\n",
       "      <td>0.895710</td>\n",
       "      <td>120.249913</td>\n",
       "      <td>True</td>\n",
       "      <td>NaN</td>\n",
       "      <td>NaN</td>\n",
       "      <td>1</td>\n",
       "      <td>2e849f6f86c2480092ea695a3cda59d8</td>\n",
       "      <td>2020-10-06_20-59-20</td>\n",
       "      <td>...</td>\n",
       "      <td>lambda1</td>\n",
       "      <td>140.221.79.11</td>\n",
       "      <td>120.249913</td>\n",
       "      <td>0</td>\n",
       "      <td>1</td>\n",
       "      <td>2_batch_size=714,dropout=0.5518,epochs=86,lear...</td>\n",
       "      <td>0.085760</td>\n",
       "      <td>0.551801</td>\n",
       "      <td>86</td>\n",
       "      <td>714</td>\n",
       "    </tr>\n",
       "    <tr>\n",
       "      <th>2</th>\n",
       "      <td>2d763448</td>\n",
       "      <td>0.400990</td>\n",
       "      <td>1.278604</td>\n",
       "      <td>92.678964</td>\n",
       "      <td>True</td>\n",
       "      <td>NaN</td>\n",
       "      <td>NaN</td>\n",
       "      <td>1</td>\n",
       "      <td>c51ac30e5fa04c498edcb108dda82be7</td>\n",
       "      <td>2020-10-06_20-58-52</td>\n",
       "      <td>...</td>\n",
       "      <td>lambda1</td>\n",
       "      <td>140.221.79.11</td>\n",
       "      <td>92.678964</td>\n",
       "      <td>0</td>\n",
       "      <td>1</td>\n",
       "      <td>3_batch_size=606,dropout=0.81471,epochs=63,lea...</td>\n",
       "      <td>0.065826</td>\n",
       "      <td>0.814712</td>\n",
       "      <td>63</td>\n",
       "      <td>606</td>\n",
       "    </tr>\n",
       "    <tr>\n",
       "      <th>3</th>\n",
       "      <td>2d763449</td>\n",
       "      <td>0.899876</td>\n",
       "      <td>0.404611</td>\n",
       "      <td>94.076040</td>\n",
       "      <td>True</td>\n",
       "      <td>NaN</td>\n",
       "      <td>NaN</td>\n",
       "      <td>1</td>\n",
       "      <td>b4c5c362e15c4952aba5874a5eb743a9</td>\n",
       "      <td>2020-10-06_20-58-54</td>\n",
       "      <td>...</td>\n",
       "      <td>lambda1</td>\n",
       "      <td>140.221.79.11</td>\n",
       "      <td>94.076040</td>\n",
       "      <td>0</td>\n",
       "      <td>1</td>\n",
       "      <td>4_batch_size=620,dropout=0.6235,epochs=56,lear...</td>\n",
       "      <td>0.050973</td>\n",
       "      <td>0.623496</td>\n",
       "      <td>56</td>\n",
       "      <td>620</td>\n",
       "    </tr>\n",
       "    <tr>\n",
       "      <th>4</th>\n",
       "      <td>2d76344a</td>\n",
       "      <td>0.401327</td>\n",
       "      <td>1.711475</td>\n",
       "      <td>101.020143</td>\n",
       "      <td>True</td>\n",
       "      <td>NaN</td>\n",
       "      <td>NaN</td>\n",
       "      <td>1</td>\n",
       "      <td>27e0ef3785af47be88c387935eac0367</td>\n",
       "      <td>2020-10-06_20-59-01</td>\n",
       "      <td>...</td>\n",
       "      <td>lambda1</td>\n",
       "      <td>140.221.79.11</td>\n",
       "      <td>101.020143</td>\n",
       "      <td>0</td>\n",
       "      <td>1</td>\n",
       "      <td>5_batch_size=603,dropout=0.81585,epochs=77,lea...</td>\n",
       "      <td>0.082984</td>\n",
       "      <td>0.815848</td>\n",
       "      <td>77</td>\n",
       "      <td>603</td>\n",
       "    </tr>\n",
       "  </tbody>\n",
       "</table>\n",
       "<p>5 rows × 23 columns</p>\n",
       "</div>"
      ],
      "text/plain": [
       "   trial_id  robust_acc  test_loss  time_this_iter_s  done  timesteps_total  \\\n",
       "0  2d763446    0.547806   1.554377         96.970397  True              NaN   \n",
       "1  2d763447    0.769446   0.895710        120.249913  True              NaN   \n",
       "2  2d763448    0.400990   1.278604         92.678964  True              NaN   \n",
       "3  2d763449    0.899876   0.404611         94.076040  True              NaN   \n",
       "4  2d76344a    0.401327   1.711475        101.020143  True              NaN   \n",
       "\n",
       "   episodes_total  training_iteration                     experiment_id  \\\n",
       "0             NaN                   1  a2e8b8b7c49e43ffa600b3930c4cbc99   \n",
       "1             NaN                   1  2e849f6f86c2480092ea695a3cda59d8   \n",
       "2             NaN                   1  c51ac30e5fa04c498edcb108dda82be7   \n",
       "3             NaN                   1  b4c5c362e15c4952aba5874a5eb743a9   \n",
       "4             NaN                   1  27e0ef3785af47be88c387935eac0367   \n",
       "\n",
       "                  date  ...  hostname        node_ip  time_since_restore  \\\n",
       "0  2020-10-06_20-58-57  ...   lambda1  140.221.79.11           96.970397   \n",
       "1  2020-10-06_20-59-20  ...   lambda1  140.221.79.11          120.249913   \n",
       "2  2020-10-06_20-58-52  ...   lambda1  140.221.79.11           92.678964   \n",
       "3  2020-10-06_20-58-54  ...   lambda1  140.221.79.11           94.076040   \n",
       "4  2020-10-06_20-59-01  ...   lambda1  140.221.79.11          101.020143   \n",
       "\n",
       "  timesteps_since_restore iterations_since_restore  \\\n",
       "0                       0                        1   \n",
       "1                       0                        1   \n",
       "2                       0                        1   \n",
       "3                       0                        1   \n",
       "4                       0                        1   \n",
       "\n",
       "                                      experiment_tag  config.learning_rate  \\\n",
       "0  1_batch_size=568,dropout=0.76084,epochs=71,lea...              0.084367   \n",
       "1  2_batch_size=714,dropout=0.5518,epochs=86,lear...              0.085760   \n",
       "2  3_batch_size=606,dropout=0.81471,epochs=63,lea...              0.065826   \n",
       "3  4_batch_size=620,dropout=0.6235,epochs=56,lear...              0.050973   \n",
       "4  5_batch_size=603,dropout=0.81585,epochs=77,lea...              0.082984   \n",
       "\n",
       "   config.dropout config.epochs  config.batch_size  \n",
       "0        0.760842            71                568  \n",
       "1        0.551801            86                714  \n",
       "2        0.814712            63                606  \n",
       "3        0.623496            56                620  \n",
       "4        0.815848            77                603  \n",
       "\n",
       "[5 rows x 23 columns]"
      ]
     },
     "execution_count": 3,
     "metadata": {},
     "output_type": "execute_result"
    }
   ],
   "source": [
    "tf_results.head()"
   ]
  },
  {
   "cell_type": "code",
   "execution_count": 4,
   "metadata": {},
   "outputs": [],
   "source": [
    "pt_results = pd.read_csv('pt_fool_gaussian.csv')"
   ]
  },
  {
   "cell_type": "code",
   "execution_count": 5,
   "metadata": {},
   "outputs": [],
   "source": [
    "from sklearn.decomposition import PCA\n",
    "pca = PCA(n_components=1)"
   ]
  },
  {
   "cell_type": "code",
   "execution_count": 6,
   "metadata": {},
   "outputs": [],
   "source": [
    "tf_results['pca'] = pca.fit_transform(tf_results[['config.learning_rate', 'config.dropout', 'config.epochs', 'config.batch_size']])"
   ]
  },
  {
   "cell_type": "code",
   "execution_count": 7,
   "metadata": {},
   "outputs": [],
   "source": [
    "pca = PCA(n_components=1)"
   ]
  },
  {
   "cell_type": "code",
   "execution_count": 8,
   "metadata": {},
   "outputs": [],
   "source": [
    "pt_results['pca'] = pca.fit_transform(pt_results[['config.learning_rate', 'config.dropout', 'config.epochs', 'config.batch_size']])"
   ]
  },
  {
   "cell_type": "code",
   "execution_count": 9,
   "metadata": {},
   "outputs": [
    {
     "data": {
      "image/png": "[encoded data removed]",
      "text/plain": [
       "<Figure size 432x288 with 1 Axes>"
      ]
     },
     "metadata": {
      "needs_background": "light"
     },
     "output_type": "display_data"
    }
   ],
   "source": [
    "ax = plt.gca()\n",
    "ax.scatter(tf_results['pca'], tf_results['robust_acc'], color=\"red\", label=\"TensorFlow\")\n",
    "ax.scatter(pt_results['pca'], pt_results['robust_acc'], color=\"blue\", label=\"PyTorch\")\n",
    "ax.set_title(\"Additive Noise - Robust Accuracy Based on Hyperparameters\")\n",
    "ax.set_xlabel(\"PCA of Hyperparameters\")\n",
    "ax.set_ylabel(\"Robust Accuracy\")\n",
    "ax.legend()\n",
    "plt.show()"
   ]
  },
  {
   "cell_type": "code",
   "execution_count": null,
   "metadata": {},
   "outputs": [],
   "source": []
  }
 ],
 "metadata": {
  "kernelspec": {
   "display_name": "Python 3",
   "language": "python",
   "name": "python3"
  },
  "language_info": {
   "codemirror_mode": {
    "name": "ipython",
    "version": 3
   },
   "file_extension": ".py",
   "mimetype": "text/x-python",
   "name": "python",
   "nbconvert_exporter": "python",
   "pygments_lexer": "ipython3",
   "version": "3.8.5"
  }
 },
 "nbformat": 4,
 "nbformat_minor": 4
}
