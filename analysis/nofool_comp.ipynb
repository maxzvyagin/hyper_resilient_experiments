{
 "cells": [
  {
   "cell_type": "markdown",
   "metadata": {},
   "source": [
    "### Comparing NoFool to Normal MNIST"
   ]
  },
  {
   "cell_type": "code",
   "execution_count": 1,
   "metadata": {},
   "outputs": [],
   "source": [
    "import pandas as pd"
   ]
  },
  {
   "cell_type": "code",
   "execution_count": 2,
   "metadata": {},
   "outputs": [],
   "source": [
    "mnist = pd.read_csv(\"../iota_mnist_10trials_11-6.csv\")"
   ]
  },
  {
   "cell_type": "code",
   "execution_count": 6,
   "metadata": {},
   "outputs": [],
   "source": [
    "no_fool = pd.read_csv(\"../singularity_singlegpu_mnist-nofool-10trials-11-12.csv\")"
   ]
  },
  {
   "cell_type": "code",
   "execution_count": 7,
   "metadata": {},
   "outputs": [
    {
     "data": {
      "text/plain": [
       "160"
      ]
     },
     "execution_count": 7,
     "metadata": {},
     "output_type": "execute_result"
    }
   ],
   "source": [
    "len(mnist)"
   ]
  },
  {
   "cell_type": "code",
   "execution_count": 8,
   "metadata": {},
   "outputs": [
    {
     "data": {
      "text/plain": [
       "130"
      ]
     },
     "execution_count": 8,
     "metadata": {},
     "output_type": "execute_result"
    }
   ],
   "source": [
    "len(no_fool)"
   ]
  },
  {
   "cell_type": "code",
   "execution_count": 10,
   "metadata": {},
   "outputs": [
    {
     "data": {
      "text/html": [
       "<div>\n",
       "<style scoped>\n",
       "    .dataframe tbody tr th:only-of-type {\n",
       "        vertical-align: middle;\n",
       "    }\n",
       "\n",
       "    .dataframe tbody tr th {\n",
       "        vertical-align: top;\n",
       "    }\n",
       "\n",
       "    .dataframe thead th {\n",
       "        text-align: right;\n",
       "    }\n",
       "</style>\n",
       "<table border=\"1\" class=\"dataframe\">\n",
       "  <thead>\n",
       "    <tr style=\"text-align: right;\">\n",
       "      <th></th>\n",
       "      <th>trial_id</th>\n",
       "      <th>tf_test_acc</th>\n",
       "      <th>average_res</th>\n",
       "      <th>time_this_iter_s</th>\n",
       "      <th>done</th>\n",
       "      <th>timesteps_total</th>\n",
       "      <th>episodes_total</th>\n",
       "      <th>training_iteration</th>\n",
       "      <th>experiment_id</th>\n",
       "      <th>date</th>\n",
       "      <th>...</th>\n",
       "      <th>hostname</th>\n",
       "      <th>node_ip</th>\n",
       "      <th>time_since_restore</th>\n",
       "      <th>timesteps_since_restore</th>\n",
       "      <th>iterations_since_restore</th>\n",
       "      <th>experiment_tag</th>\n",
       "      <th>config.learning_rate</th>\n",
       "      <th>config.dropout</th>\n",
       "      <th>config.epochs</th>\n",
       "      <th>config.batch_size</th>\n",
       "    </tr>\n",
       "  </thead>\n",
       "  <tbody>\n",
       "    <tr>\n",
       "      <th>0</th>\n",
       "      <td>a63e6d16</td>\n",
       "      <td>0.0467</td>\n",
       "      <td>0.0467</td>\n",
       "      <td>0.008464</td>\n",
       "      <td>True</td>\n",
       "      <td>NaN</td>\n",
       "      <td>NaN</td>\n",
       "      <td>2</td>\n",
       "      <td>048019baa68047cc910c1563396b6505</td>\n",
       "      <td>2020-11-13_08-34-11</td>\n",
       "      <td>...</td>\n",
       "      <td>thetagpu13</td>\n",
       "      <td>140.221.68.23</td>\n",
       "      <td>149.103609</td>\n",
       "      <td>0</td>\n",
       "      <td>2</td>\n",
       "      <td>1_batch_size=322,dropout=0.87752,epochs=80,lea...</td>\n",
       "      <td>0.015707</td>\n",
       "      <td>0.877517</td>\n",
       "      <td>80</td>\n",
       "      <td>322</td>\n",
       "    </tr>\n",
       "    <tr>\n",
       "      <th>1</th>\n",
       "      <td>a643f42a</td>\n",
       "      <td>0.0467</td>\n",
       "      <td>0.0467</td>\n",
       "      <td>0.006373</td>\n",
       "      <td>True</td>\n",
       "      <td>NaN</td>\n",
       "      <td>NaN</td>\n",
       "      <td>2</td>\n",
       "      <td>9f399d060fc84a6f81af02da1f133b33</td>\n",
       "      <td>2020-11-13_08-34-30</td>\n",
       "      <td>...</td>\n",
       "      <td>thetagpu13</td>\n",
       "      <td>140.221.68.23</td>\n",
       "      <td>168.125678</td>\n",
       "      <td>0</td>\n",
       "      <td>2</td>\n",
       "      <td>2_batch_size=438,dropout=0.63914,epochs=94,lea...</td>\n",
       "      <td>0.033080</td>\n",
       "      <td>0.639143</td>\n",
       "      <td>94</td>\n",
       "      <td>438</td>\n",
       "    </tr>\n",
       "    <tr>\n",
       "      <th>2</th>\n",
       "      <td>a645f66c</td>\n",
       "      <td>0.0467</td>\n",
       "      <td>0.0467</td>\n",
       "      <td>0.011640</td>\n",
       "      <td>True</td>\n",
       "      <td>NaN</td>\n",
       "      <td>NaN</td>\n",
       "      <td>2</td>\n",
       "      <td>f4030b2cf0f84182be0ac1bd8143101f</td>\n",
       "      <td>2020-11-13_08-33-19</td>\n",
       "      <td>...</td>\n",
       "      <td>thetagpu13</td>\n",
       "      <td>140.221.68.23</td>\n",
       "      <td>96.862439</td>\n",
       "      <td>0</td>\n",
       "      <td>2</td>\n",
       "      <td>3_batch_size=251,dropout=0.658,epochs=52,learn...</td>\n",
       "      <td>0.055897</td>\n",
       "      <td>0.657999</td>\n",
       "      <td>52</td>\n",
       "      <td>251</td>\n",
       "    </tr>\n",
       "    <tr>\n",
       "      <th>3</th>\n",
       "      <td>a648cd1a</td>\n",
       "      <td>0.0467</td>\n",
       "      <td>0.0467</td>\n",
       "      <td>0.008931</td>\n",
       "      <td>True</td>\n",
       "      <td>NaN</td>\n",
       "      <td>NaN</td>\n",
       "      <td>2</td>\n",
       "      <td>e40bb4779d13482087350f498fde0803</td>\n",
       "      <td>2020-11-13_08-33-34</td>\n",
       "      <td>...</td>\n",
       "      <td>thetagpu13</td>\n",
       "      <td>140.221.68.23</td>\n",
       "      <td>112.490438</td>\n",
       "      <td>0</td>\n",
       "      <td>2</td>\n",
       "      <td>4_batch_size=467,dropout=0.81527,epochs=63,lea...</td>\n",
       "      <td>0.046952</td>\n",
       "      <td>0.815265</td>\n",
       "      <td>63</td>\n",
       "      <td>467</td>\n",
       "    </tr>\n",
       "    <tr>\n",
       "      <th>4</th>\n",
       "      <td>a64b0026</td>\n",
       "      <td>0.0467</td>\n",
       "      <td>0.0467</td>\n",
       "      <td>0.006841</td>\n",
       "      <td>True</td>\n",
       "      <td>NaN</td>\n",
       "      <td>NaN</td>\n",
       "      <td>2</td>\n",
       "      <td>5e8d0451315248fb967174ccc7e7a364</td>\n",
       "      <td>2020-11-13_08-34-56</td>\n",
       "      <td>...</td>\n",
       "      <td>thetagpu13</td>\n",
       "      <td>140.221.68.23</td>\n",
       "      <td>194.642895</td>\n",
       "      <td>0</td>\n",
       "      <td>2</td>\n",
       "      <td>5_batch_size=219,dropout=0.50164,epochs=98,lea...</td>\n",
       "      <td>0.012926</td>\n",
       "      <td>0.501644</td>\n",
       "      <td>98</td>\n",
       "      <td>219</td>\n",
       "    </tr>\n",
       "  </tbody>\n",
       "</table>\n",
       "<p>5 rows × 23 columns</p>\n",
       "</div>"
      ],
      "text/plain": [
       "   trial_id  tf_test_acc  average_res  time_this_iter_s  done  \\\n",
       "0  a63e6d16       0.0467       0.0467          0.008464  True   \n",
       "1  a643f42a       0.0467       0.0467          0.006373  True   \n",
       "2  a645f66c       0.0467       0.0467          0.011640  True   \n",
       "3  a648cd1a       0.0467       0.0467          0.008931  True   \n",
       "4  a64b0026       0.0467       0.0467          0.006841  True   \n",
       "\n",
       "   timesteps_total  episodes_total  training_iteration  \\\n",
       "0              NaN             NaN                   2   \n",
       "1              NaN             NaN                   2   \n",
       "2              NaN             NaN                   2   \n",
       "3              NaN             NaN                   2   \n",
       "4              NaN             NaN                   2   \n",
       "\n",
       "                      experiment_id                 date  ...    hostname  \\\n",
       "0  048019baa68047cc910c1563396b6505  2020-11-13_08-34-11  ...  thetagpu13   \n",
       "1  9f399d060fc84a6f81af02da1f133b33  2020-11-13_08-34-30  ...  thetagpu13   \n",
       "2  f4030b2cf0f84182be0ac1bd8143101f  2020-11-13_08-33-19  ...  thetagpu13   \n",
       "3  e40bb4779d13482087350f498fde0803  2020-11-13_08-33-34  ...  thetagpu13   \n",
       "4  5e8d0451315248fb967174ccc7e7a364  2020-11-13_08-34-56  ...  thetagpu13   \n",
       "\n",
       "         node_ip  time_since_restore timesteps_since_restore  \\\n",
       "0  140.221.68.23          149.103609                       0   \n",
       "1  140.221.68.23          168.125678                       0   \n",
       "2  140.221.68.23           96.862439                       0   \n",
       "3  140.221.68.23          112.490438                       0   \n",
       "4  140.221.68.23          194.642895                       0   \n",
       "\n",
       "  iterations_since_restore                                     experiment_tag  \\\n",
       "0                        2  1_batch_size=322,dropout=0.87752,epochs=80,lea...   \n",
       "1                        2  2_batch_size=438,dropout=0.63914,epochs=94,lea...   \n",
       "2                        2  3_batch_size=251,dropout=0.658,epochs=52,learn...   \n",
       "3                        2  4_batch_size=467,dropout=0.81527,epochs=63,lea...   \n",
       "4                        2  5_batch_size=219,dropout=0.50164,epochs=98,lea...   \n",
       "\n",
       "   config.learning_rate  config.dropout config.epochs  config.batch_size  \n",
       "0              0.015707        0.877517            80                322  \n",
       "1              0.033080        0.639143            94                438  \n",
       "2              0.055897        0.657999            52                251  \n",
       "3              0.046952        0.815265            63                467  \n",
       "4              0.012926        0.501644            98                219  \n",
       "\n",
       "[5 rows x 23 columns]"
      ]
     },
     "execution_count": 10,
     "metadata": {},
     "output_type": "execute_result"
    }
   ],
   "source": [
    "no_fool.head()"
   ]
  },
  {
   "cell_type": "code",
   "execution_count": null,
   "metadata": {},
   "outputs": [],
   "source": [
    "no_fool_sorted = no_fool.sort_values['']"
   ]
  }
 ],
 "metadata": {
  "kernelspec": {
   "display_name": "Python 3",
   "language": "python",
   "name": "python3"
  },
  "language_info": {
   "codemirror_mode": {
    "name": "ipython",
    "version": 3
   },
   "file_extension": ".py",
   "mimetype": "text/x-python",
   "name": "python",
   "nbconvert_exporter": "python",
   "pygments_lexer": "ipython3",
   "version": "3.8.5"
  }
 },
 "nbformat": 4,
 "nbformat_minor": 4
}
